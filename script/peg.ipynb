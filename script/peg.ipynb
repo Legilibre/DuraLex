{
 "cells": [
  {
   "cell_type": "markdown",
   "metadata": {},
   "source": [
    "# Install dependencies\n",
    "\n",
    "```\n",
    "pip install -r ../requirements.txt\n",
    "pip install graphviz\n",
    "apt-get update && apt-get install -y graphviz\n",
    "```\n"
   ]
  },
  {
   "cell_type": "markdown",
   "metadata": {},
   "source": [
    "# Code"
   ]
  },
  {
   "cell_type": "code",
   "execution_count": null,
   "metadata": {},
   "outputs": [],
   "source": [
    "import parsimonious\n",
    "import sys\n",
    "import os\n",
    "import re\n",
    "import shlex\n",
    "\n",
    "import graphviz\n",
    "\n",
    "class DotParsimoniousVisitor(parsimonious.NodeVisitor):\n",
    "\n",
    "    def __init__(self):\n",
    "        self.count = 0\n",
    "        self.dot = []\n",
    "\n",
    "    def escape(self, str):\n",
    "        return str.replace('\"', '\\\\\"')\n",
    "\n",
    "    def generic_visit(self, node, visited_children):\n",
    "        self.count += 1\n",
    "\n",
    "        colors = {\n",
    "            r'edit$': 'orange',\n",
    "            r'typed_ref': 'skyblue',\n",
    "            r'(.*_id|date|quoted)': 'pink',\n",
    "            r'(code|alinea|article|paragraph|book|title|law|word|header\\d+|.*lookback.*)_ref': 'cyan',\n",
    "            r'.*_verb': 'green',\n",
    "            r'.*_def': 'yellow'\n",
    "        }\n",
    "\n",
    "        if node.expr_name:\n",
    "            c = 'white'\n",
    "            for regex, color in colors.items():\n",
    "                if re.match(regex, node.expr_name):\n",
    "                    c = color\n",
    "                    break\n",
    "            self.dot += [\n",
    "                '  %i [label=\"%s (%s)\", style=filled, fillcolor=%s]'\n",
    "                % (self.count, self.escape(node.text.strip()), node.expr_name, c)\n",
    "            ]\n",
    "        else:\n",
    "            self.dot += [\n",
    "                '  %i [label=\"%s (%s)\", color=grey, fontcolor=grey]'\n",
    "                % (self.count, self.escape(node.text.strip()), node.__class__.__name__)\n",
    "            ]\n",
    "        if len(visited_children):\n",
    "            self.dot += ['  %i -- %s' % (self.count, ' -- '.join([str(i) for i in visited_children]))]\n",
    "\n",
    "        return self.count\n",
    "\n",
    "    def get_dot(self):\n",
    "        return  'graph graphname {\\nsize=\"18,18\";\\n%s\\n}' % (';\\n'.join(self.dot))\n",
    "\n",
    "    \n",
    "def print_syntax_tree(str):\n",
    "    tree = grammar.match(str)\n",
    "\n",
    "    v = DotParsimoniousVisitor()\n",
    "    v.visit(tree)\n",
    "\n",
    "    print(v.get_dot())\n",
    "\n",
    "def render_syntax_tree(str):\n",
    "    tree = grammar.match(str)\n",
    "\n",
    "    v = DotParsimoniousVisitor()\n",
    "    v.visit(tree)\n",
    "\n",
    "    return graphviz.Source(v.get_dot())"
   ]
  },
  {
   "cell_type": "markdown",
   "metadata": {},
   "source": [
    "# Grammar"
   ]
  },
  {
   "cell_type": "code",
   "execution_count": null,
   "metadata": {},
   "outputs": [],
   "source": [
    "grammar = parsimonious.Grammar(\"\"\"\n",
    "alinea = (_* sentence)+ _*\n",
    "\n",
    "sentence = (edit / ref_list / def) ~\"[^.]*\" \".\"?\n",
    "\n",
    "edit =\n",
    "    (edit_verb _ ref) /\n",
    "    (ref _ edit_verb _ (preposition _)? (_ def)?) /\n",
    "    (ref _ \"est\" _ (adverb _)? edit_verb (_ preposition)? (_ def)?) /\n",
    "    (ref_list _ \"sont\" (_ adverb)? _ edit_verb (_ preposition)? (_ def)?)\n",
    "edit_verb =\n",
    "    ~\"supprimer\"i / \n",
    "    ~\"supprimé(e|s|es)?\" /\n",
    "    ~\"abrogé(e|s|es)?\" /\n",
    "    ~\"modifié(e|s|es)?\" /\n",
    "    ~\"rédigé(e|s|es)?\" /\n",
    "    ~\"remplacer\"i /\n",
    "    ~\"remplacé(e|s|es)?\" /\n",
    "    ~\"ajouté(e|s|es)?\" /\n",
    "    ~\"inséré(e|s|es)?\" /\n",
    "    ~\"complété(e|s|es)?\" /\n",
    "    ~\"ratifié(e|s|es)?\" /\n",
    "    ~\"rétabli(e|s|es)?\"\n",
    "\n",
    "\n",
    "\n",
    "ref_list =\n",
    "    (typed_ref (op_comma _ ref)* (_ op_and _ (ref_list / untyped_lookback_ref))+ (_ \"de\" _ typed_ref)?) /\n",
    "    typed_ref\n",
    "\n",
    "ref = (typed_ref / untyped_lookback_ref)\n",
    "typed_ref = (positional_conjunction _)? (pronoun _?)? (law_ref / code_ref / book_ref / title_ref / paragraph_ref / article_ref / alinea_ref / word_ref / header1_ref) (((_ \"de\") / op_comma) _ typed_ref)?\n",
    "untyped_lookback_ref = untyped_lookback_ref_id\n",
    "untyped_lookback_ref_id = ordinal_adjective_number / number\n",
    "\n",
    "alinea_ref =\n",
    "    (~\"alinéa(s)?\"i _+ alinea_id) /\n",
    "    (ordinal_adjective_number _ ~\"alinéa(s)?\"i) /\n",
    "    lookback_alinea_ref\n",
    "lookback_alinea_ref = ~\"même(s)?\"i _ ~\"alinéa(s)?\"i\n",
    "alinea_id = number \"\"\n",
    "\n",
    "article_ref = (~\"article(s)?\"i _+ article_id) / lookback_article_ref\n",
    "lookback_article_ref = ~\"même(s)?\"i _ ~\"article(s)?\"i\n",
    "article_id = number / ordinal_adjective_number\n",
    "\n",
    "paragraph_ref =\n",
    "    ((ordinal_adjective_number _)? ~\"paragraphe(s)?\"i) /\n",
    "    (~\"paragraphe(s)?\"i _+ paragraph_id) /\n",
    "    lookback_paragraph_ref\n",
    "lookback_paragraph_ref = ~\"même(s)?\"i _ ~\"paragraphe(s)?\"i\n",
    "paragraph_id = number \"\"\n",
    "\n",
    "book_ref = (~\"livre(s)\"i _ book_id) / lookback_book_ref\n",
    "lookback_book_ref = ~\"même(s)?\"i _ ~\"livre(s)?\"i\n",
    "book_id = roman_number \"\"\n",
    "\n",
    "title_ref = ~\"titre(s)?\"i _ title_id\n",
    "title_id = roman_number \"\"\n",
    "\n",
    "law_ref =\n",
    "    (law_type _ ((number_abvr _* law_id _ \"du\" _ date) / (number_abvr _* law_id) / (\"du\" _ date))) /\n",
    "    lookback_law_ref\n",
    "lookback_law_ref = ~\"même(s)?\"i _ law_type\n",
    "law_type = ~\"loi( +constitutionnelle| +organique)?|ordonnance|d[ée]cret(-loi)?|arr[êe]t[ée]|circulaire\"i\n",
    "law_id = ~\"[0-9]+[-‑][0-9]+\"\n",
    "\n",
    "word_ref = (positional_conjunction _)? (pronoun _)? (ordinal_adjective_number _)? word_type not_double_quote+ quoted\n",
    "\n",
    "code_ref = code / lookback_code_ref\n",
    "code = ( ~\"code\"i _ code_name ) / ~\"constitution\"i\n",
    "lookback_code_ref = \"même\" _ \"code\"\n",
    "code_name = ~\"de +la +consommation +des +boissons +et +des +mesures +contre +l['’] *alcoolisme +applicable +dans +la +collectivité +territoriale +de +Mayotte|du +domaine +de +l['’] *Etat +et +des +collectivités +publiques +applicable +à +la +collectivité +territoriale +de +Mayotte|des +pensions +de +retraite +des +marins +français +du +commerce, +de +pêche +ou +de +plaisance|des +pensions +militaires +d['’] *invalidité +et +des +victimes +de +la +guerre|des +tribunaux +administratifs +et +des +cours +administratives +d['’] *appel|des +pensions +militaires +d['’] *invalidité +et +des +victimes +de +guerre|de +déontologie +des +professionnels +de +l['’] *expertise +comptable|de +déontologie +de +la +profession +de +commissaire +aux +comptes|de +l['’] *entrée +et +du +séjour +des +étrangers +et +du +droit +d['’] *asile|des +débits +de +boissons +et +des +mesures +contre +l['’] *alcoolisme|du +domaine +public +fluvial +et +de +la +navigation +intérieure|de +la +Légion +d['’] *honneur +et +de +la +médaille +militaire|des +relations +entre +le +public +et +l['’] *administration|de +l['’] *expropriation +pour +cause +d['’] *utilité +publique|général +de +la +propriété +des +personnes +publiques|des +postes +et +des +communications +électroniques|des +pensions +civiles +et +militaires +de +retraite|de +l['’] *Office +national +interprofessionnel +du +blé|de +déontologie +des +agents +de +police +municipale|disciplinaire +et +pénal +de +la +marine +marchande|des +instruments +monétaires +et +des +médailles|de +déontologie +des +chirurgiens-dentistes|général +des +collectivités +territoriales|de +la +construction +et +de +l['’] *habitation|de +déontologie +de +la +police +nationale|des +communes +de +la +Nouvelle-Calédonie|général +des +impôts, +annexe +2, +CGIAN2|général +des +impôts, +annexe +3, +CGIAN3|général +des +impôts, +annexe +4, +CGIAN4|général +des +impôts +annexe +1, +CGIAN1|de +l['’] *action +sociale +et +des +familles|des +procédures +civiles +d['’] *exécution|de +la +famille +et +de +l['’] *aide +sociale|de +l['’] *industrie +cinématographique|du +travail +applicable +à +Mayotte|de +déontologie +des +sages-femmes|de +déontologie +des +architectes|de +la +propriété +intellectuelle|du +cinéma +et +de +l['’] *image +animée|rural +et +de +la +pêche +maritime|de +l['’] *organisation +judiciaire|des +juridictions +financières|de +déontologie +des +médecins|de +l['’] *enseignement +technique|de +la +nationalité +française|de +déontologie +vétérinaire|de +justice +administrative|de +la +sécurité +intérieure|de +déontologie +médicale|général +des +impôts(, +CGI)?|de +la +sécurité +sociale|monétaire +et +financier|des +caisses +d['’] *épargne|de +la +voirie +routière|de +l['’] *aviation +civile|de +justice +militaire|de +la +santé +publique|du +domaine +de +l['’] *Etat|des +marchés +publics( +\\(édition +(1964|2001|2004|2006)\\))?|de +procédure +civile( +\\(1807\\))?|de +procédure +pénale|du +travail +maritime|du +service +national|des +ports +maritimes|de +l['’] *environnement|de +la +consommation|de +la +mutualité|de +la +recherche|de +l['’] *artisanat|de +l['’] *éducation|de +l['’] *urbanisme|des +assurances|des +transports|du +patrimoine|de +la +défense|des +communes|de +l['’] *énergie|des +douanes( +de +Mayotte)?|de +commerce|de +la +route|du +tourisme|du +travail|forestier( +de +Mayotte)?|électoral|du +sport|du +blé|du +vin|minier|pénal|rural|civil\"i\n",
    "\n",
    "header1_ref = header1_id \"\"\n",
    "header1_id = roman_number (_ multiplicative_adverb)?\n",
    "\n",
    "\n",
    "\n",
    "def = word_def / alinea_def\n",
    "\n",
    "word_def =\n",
    "    ((pronoun _?)? word_type (_ ~\"suivant(s)?\"i)? not_double_quote* quoted) /\n",
    "    (_* \":\" _ quoted)\n",
    "\n",
    "alinea_def =\n",
    "    ((pronoun _?)? ordinal_adjective_number _ \"alinéa\" (_ \"ainsi\" _ ~\"rédigé(s)?\" not_double_quote+ quoted)?) /\n",
    "    (alinea_def_count _ ~\"alinéa(s)?\" (_ alinea_def_id)? (_ ~\"suivant(s)?\"i)? (_ \"ainsi\" _ ~\"rédigé(s)?\" not_double_quote+ quoted))\n",
    "alinea_def_count = number / number_word\n",
    "alinea_def_id = number \"\"\n",
    "\n",
    "\n",
    "\n",
    "not_double_quote = ~\"[^\\\\\"]*\"\n",
    "quoted = \"\\\\\"\" ~\"[^\\\\n\\\\\\\"]+(\\\\n\\\\\\\"[^\\\\n\\\\\\\"]+)*\" \"\\\\\"\"\n",
    "word_type = ~\"mot(s)?\" / ~\"nombre(s)?\" / ~\"chiffre(s)?\" / \"taux\" / ~\"référence(s)?\" / ~\"disposition(s)?\"\n",
    "date = day _ month _ year\n",
    "day = ~\"1er|[12][0-9]|3[01]|[1-9]\"i\n",
    "month = ~\"janvier|février|mars|avril|mai|juin|juillet|août|septembre|octobre|novembre|décembre\"i\n",
    "year = ~\"(1[5-9]|2[0-9])[0-9]{2}\"\n",
    "ordinal_adjective_number = ~\"premi(er|ère)+|second(e)+|derni(er|ère)|dixième|onzième|douzième|treizième|quatorzième|quinzième|seizième|(dix-|vingt-|trente-|quarante-|cinquante-|soixante-|soixante-dix-|quatre-vingt-|quatre-vingt-dix-)?(et-)?(un|deux|trois|quatr|cinqu|six|sept|huit|neuv)ième\"i\n",
    "pronoun = ~\"au\"i / ~\"de\\w+l'\"i / ~\"de\\w+la\"i / ~\"des\"i / ~\"les\"i / ~\"le\"i / ~\"la\"i / ~\"l'\"i / ~\"du\"i / ~\"un\"i\n",
    "roman_number = ~\"Ier|[IVXLCDM]+(èm)?e?\"\n",
    "adverb = \"ainsi\"\n",
    "preposition = \"par\"\n",
    "positional_conjunction = ~\"après\"i / ~\"avant\"i / ~\"au début\"i / ~\"à la fin\"i\n",
    "number = ~\"\\d+\"\n",
    "number_abvr = ~\"n°|no\"i\n",
    "op_and = \"et\"\n",
    "op_comma = \",\"\n",
    "_ = ~\"(\\s+|\\\\n)\"\n",
    "number_word =\n",
    "    \"une\" / \"un\" /\n",
    "    \"deux\" /\n",
    "    \"second\" /\n",
    "    \"trois\" /\n",
    "    \"quatre\" /\n",
    "    \"cinq\" /\n",
    "    \"six\" /\n",
    "    \"sept\" /\n",
    "    \"huit\" /\n",
    "    \"neuf\" /\n",
    "    \"dix\" /\n",
    "    \"onze\" /\n",
    "    \"douze\" /\n",
    "    \"treize\" /\n",
    "    \"quatorze\" /\n",
    "    \"quinze\" /\n",
    "    \"seize\"\n",
    "multiplicative_adverb = ( multiplicative_adverb_units_before_decades? multiplicative_adverb_decades ) / multiplicative_adverb_units\n",
    "multiplicative_adverb_units = ~\"semel|bis|ter|quater|(quinqu|sex|sept|oct|no[nv])ies\"i\n",
    "multiplicative_adverb_units_before_decades = ~\"un(de?)?|duo(de)?|ter|quater|quin|sex?|sept|octo|novo\"i\n",
    "multiplicative_adverb_decades = ~\"(dec|v[ei]c|tr[ei]c|quadrag|quinquag|sexag|septuag|octog|nonag)ies\"i\n",
    "\"\"\")"
   ]
  },
  {
   "cell_type": "markdown",
   "metadata": {},
   "source": [
    "# Tests"
   ]
  },
  {
   "cell_type": "code",
   "execution_count": null,
   "metadata": {},
   "outputs": [],
   "source": [
    "render_syntax_tree(\"\"\"\n",
    "un premier alinéa\n",
    "\"\"\")"
   ]
  },
  {
   "cell_type": "code",
   "execution_count": null,
   "metadata": {},
   "outputs": [],
   "source": [
    "render_syntax_tree(\"\"\"\n",
    "la loi n°77-729 du 17 juillet 1977\n",
    "\"\"\")"
   ]
  },
  {
   "cell_type": "code",
   "execution_count": null,
   "metadata": {
    "slideshow": {
     "slide_type": "-"
    }
   },
   "outputs": [],
   "source": [
    "render_syntax_tree(\"\"\"\n",
    "les mots \"ceci est un test\"\n",
    "\"\"\")"
   ]
  },
  {
   "cell_type": "code",
   "execution_count": null,
   "metadata": {},
   "outputs": [],
   "source": [
    "render_syntax_tree(\"\"\"\n",
    "après l'alinéa 4\n",
    "\"\"\")"
   ]
  },
  {
   "cell_type": "code",
   "execution_count": null,
   "metadata": {},
   "outputs": [],
   "source": [
    "render_syntax_tree(\"\"\"\n",
    "Au premier alinéa, les mots : \", par circonscription,\" sont supprimés.\n",
    "\"\"\")"
   ]
  },
  {
   "cell_type": "code",
   "execution_count": null,
   "metadata": {},
   "outputs": [],
   "source": [
    "render_syntax_tree(\"\"\"\n",
    "après l'alinéa 4 est inséré un alinéa 5 ainsi rédigé : \"ceci est un test\"\n",
    "\"\"\")"
   ]
  },
  {
   "cell_type": "code",
   "execution_count": null,
   "metadata": {},
   "outputs": [],
   "source": [
    "render_syntax_tree(\"\"\"\n",
    "les articles 3, 4 et 5 de la même loi sont remplacés par les mots \"ceci est un test\"\n",
    "\"\"\")"
   ]
  },
  {
   "cell_type": "code",
   "execution_count": null,
   "metadata": {},
   "outputs": [],
   "source": [
    "render_syntax_tree(\"\"\"\n",
    "Après l'alinéa 4 est inséré un cinquième alinéa ainsi rédigé : \"ceci est un test\".\n",
    "Les articles 5 et 6 de la loi n°77-729 du 17 juillet 1977 sont supprimés.\n",
    "Le I de l'article 4 de la loi n°88-42 est ainsi rédigé : \"un autre test\".\n",
    "Les alinéas 2, 3 et 5 sont remplacés par un alinéa ainsi rédigé : \"encore un test\".\n",
    "\"\"\")"
   ]
  },
  {
   "cell_type": "code",
   "execution_count": null,
   "metadata": {},
   "outputs": [],
   "source": []
  }
 ],
 "metadata": {
  "kernelspec": {
   "display_name": "Python 3",
   "language": "python",
   "name": "python3"
  },
  "language_info": {
   "codemirror_mode": {
    "name": "ipython",
    "version": 3
   },
   "file_extension": ".py",
   "mimetype": "text/x-python",
   "name": "python",
   "nbconvert_exporter": "python",
   "pygments_lexer": "ipython3",
   "version": "3.6.5"
  }
 },
 "nbformat": 4,
 "nbformat_minor": 2
}
